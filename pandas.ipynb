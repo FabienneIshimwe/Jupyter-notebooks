{
 "cells": [
  {
   "cell_type": "code",
   "execution_count": 70,
   "metadata": {
    "collapsed": true
   },
   "outputs": [],
   "source": [
    "#PANDAS PRACTICING  FROM pandas.pydata.org\n",
    "\n",
    "# importing libraries\n",
    "#=============================\n",
    "import pandas as pd\n",
    "import numpy as np\n",
    "import matplotlib.pyplot as plt"
   ]
  },
  {
   "cell_type": "code",
   "execution_count": 79,
   "metadata": {},
   "outputs": [
    {
     "name": "stdout",
     "output_type": "stream",
     "text": [
      "a    1\n",
      "b    x\n",
      "c    3\n",
      "d    4\n",
      "e    5\n",
      "Name: Name1, dtype: object\n"
     ]
    },
    {
     "data": {
      "text/plain": [
       "a    1\n",
       "b    x\n",
       "c    3\n",
       "d    4\n",
       "e    5\n",
       "Name: Name2, dtype: object"
      ]
     },
     "execution_count": 79,
     "metadata": {},
     "output_type": "execute_result"
    }
   ],
   "source": [
    "#1.Data structures\n",
    "#================================================\n",
    "\n",
    "\n",
    "#1.1 Series\n",
    "#--------------\n",
    "\n",
    "# Creating a series and assigning a name\n",
    "s1 = pd.Series([1,'x',3,4,5],index=['a', 'b', 'c', 'd', 'e'], name='Name1')\n",
    "print s1\n",
    "s1=s1.rename('Name2') # renaming the series\n",
    "s1"
   ]
  },
  {
   "cell_type": "code",
   "execution_count": 72,
   "metadata": {},
   "outputs": [
    {
     "data": {
      "text/plain": [
       "a    1\n",
       "b    1\n",
       "c    1\n",
       "d    1\n",
       "e    1\n",
       "dtype: object"
      ]
     },
     "execution_count": 72,
     "metadata": {},
     "output_type": "execute_result"
    }
   ],
   "source": [
    "# The value will be repeated to match the length of index if value is scalar\n",
    "s2 = pd.Series(['1'],index=['a', 'b', 'c', 'd', 'e'])\n",
    "s"
   ]
  },
  {
   "cell_type": "code",
   "execution_count": 73,
   "metadata": {},
   "outputs": [
    {
     "name": "stdout",
     "output_type": "stream",
     "text": [
      "a    1\n",
      "b    x\n",
      "c    3\n",
      "dtype: object\n",
      "b    x\n",
      "d    4\n",
      "e    5\n",
      "dtype: object\n",
      "e    5\n",
      "d    4\n",
      "b    x\n",
      "dtype: object\n",
      "x\n",
      "12\n",
      "missing\n"
     ]
    }
   ],
   "source": [
    "# accessing getting values\n",
    "print s1[:3]\n",
    "print s1[s1>3]\n",
    "\n",
    "print s1[[4, 3, 1]] # printing values in index 4,3,1\n",
    "print s1['b']\n",
    "\n",
    "s1['e'] = 12 # assigning new value at index e\n",
    "print s1['e']\n",
    "\n",
    "#print s1['f'] # return an error since there is no index f\n",
    "print s1.get('f','missing') # However, using get function with missing index will return \"none\" or specified default value"
   ]
  },
  {
   "cell_type": "code",
   "execution_count": 74,
   "metadata": {},
   "outputs": [
    {
     "name": "stdout",
     "output_type": "stream",
     "text": [
      "a     3\n",
      "b     8\n",
      "c    13\n",
      "d    17\n",
      "e    21\n",
      "dtype: int64\n",
      "a     6\n",
      "b    12\n",
      "c    18\n",
      "d    24\n",
      "e    30\n",
      "dtype: int64\n",
      "a    1.0\n",
      "b    0.0\n",
      "c   -1.0\n",
      "d   -1.0\n",
      "e    NaN\n",
      "dtype: float64\n"
     ]
    }
   ],
   "source": [
    "# Vector operation and label alignment\n",
    "s3= pd.Series([2,4,6,8,10],index=['a', 'b', 'c', 'd', 'e'])\n",
    "s4=pd.Series([1,4,7,9,11],index=['a', 'b', 'c', 'd', 'e'])\n",
    "\n",
    "print s3+s4 #adding values from both series \n",
    "print s3*3 # multiplying s3 values by 2\n",
    "print s3[:4]-s4 # will print nan for missing labels in either series"
   ]
  },
  {
   "cell_type": "code",
   "execution_count": null,
   "metadata": {
    "collapsed": true
   },
   "outputs": [],
   "source": []
  }
 ],
 "metadata": {
  "kernelspec": {
   "display_name": "Python 2",
   "language": "python",
   "name": "python2"
  },
  "language_info": {
   "codemirror_mode": {
    "name": "ipython",
    "version": 2
   },
   "file_extension": ".py",
   "mimetype": "text/x-python",
   "name": "python",
   "nbconvert_exporter": "python",
   "pygments_lexer": "ipython2",
   "version": "2.7.13"
  }
 },
 "nbformat": 4,
 "nbformat_minor": 2
}
