{
 "cells": [
  {
   "cell_type": "code",
   "execution_count": 52,
   "metadata": {},
   "outputs": [],
   "source": [
    "#1. Importing libraries\n",
    "#======================\n",
    "# For data manipulation\n",
    "import pandas as pd\n",
    "from pandas import DataFrame\n",
    "import numpy as np\n",
    "\n",
    "# For regression\n",
    "from sklearn.linear_model import LinearRegression\n",
    "from sklearn import datasets\n",
    "from sklearn.cross_validation import train_test_split\n",
    "from sklearn.metrics import mean_squared_error\n",
    "\n",
    "\n",
    "# For plots\n",
    "import matplotlib.pyplot as plt\n",
    "import seaborn as sns\n",
    "label_size = 8\n",
    "plt.rcParams['xtick.labelsize'] = label_size \n",
    "%matplotlib inline"
   ]
  },
  {
   "cell_type": "code",
   "execution_count": 37,
   "metadata": {},
   "outputs": [],
   "source": [
    "#2. Importing the data\n",
    "#=======================\n",
    "\n",
    "#data=pd.read_clipboard()\n",
    "#data.to_csv('data.csv')\n",
    "df=pd.read_csv('data.csv', header=None)\n",
    "df=df.loc[:,2:13]"
   ]
  },
  {
   "cell_type": "code",
   "execution_count": 38,
   "metadata": {},
   "outputs": [
    {
     "data": {
      "text/html": [
       "<div>\n",
       "<style>\n",
       "    .dataframe thead tr:only-child th {\n",
       "        text-align: right;\n",
       "    }\n",
       "\n",
       "    .dataframe thead th {\n",
       "        text-align: left;\n",
       "    }\n",
       "\n",
       "    .dataframe tbody tr th {\n",
       "        vertical-align: top;\n",
       "    }\n",
       "</style>\n",
       "<table border=\"1\" class=\"dataframe\">\n",
       "  <thead>\n",
       "    <tr style=\"text-align: right;\">\n",
       "      <th></th>\n",
       "      <th>2</th>\n",
       "      <th>3</th>\n",
       "      <th>4</th>\n",
       "      <th>5</th>\n",
       "      <th>6</th>\n",
       "      <th>7</th>\n",
       "      <th>8</th>\n",
       "      <th>9</th>\n",
       "      <th>10</th>\n",
       "      <th>11</th>\n",
       "      <th>12</th>\n",
       "      <th>13</th>\n",
       "    </tr>\n",
       "  </thead>\n",
       "  <tbody>\n",
       "    <tr>\n",
       "      <th>0</th>\n",
       "      <td>1991</td>\n",
       "      <td>Jan</td>\n",
       "      <td>162.1</td>\n",
       "      <td>29.1</td>\n",
       "      <td>1229</td>\n",
       "      <td>0</td>\n",
       "      <td>4</td>\n",
       "      <td>0.1</td>\n",
       "      <td>0.2</td>\n",
       "      <td>0.3</td>\n",
       "      <td>-0.002288</td>\n",
       "      <td>5600</td>\n",
       "    </tr>\n",
       "    <tr>\n",
       "      <th>1</th>\n",
       "      <td>1991</td>\n",
       "      <td>Feb</td>\n",
       "      <td>256.9</td>\n",
       "      <td>31.5</td>\n",
       "      <td>999</td>\n",
       "      <td>0</td>\n",
       "      <td>4</td>\n",
       "      <td>0.0</td>\n",
       "      <td>0.0</td>\n",
       "      <td>0.0</td>\n",
       "      <td>-0.002288</td>\n",
       "      <td>9463</td>\n",
       "    </tr>\n",
       "    <tr>\n",
       "      <th>2</th>\n",
       "      <td>1991</td>\n",
       "      <td>Mar</td>\n",
       "      <td>151.15</td>\n",
       "      <td>41.9</td>\n",
       "      <td>734</td>\n",
       "      <td>0</td>\n",
       "      <td>4</td>\n",
       "      <td>0.0</td>\n",
       "      <td>0.0</td>\n",
       "      <td>0.0</td>\n",
       "      <td>-0.002288</td>\n",
       "      <td>5154</td>\n",
       "    </tr>\n",
       "    <tr>\n",
       "      <th>3</th>\n",
       "      <td>1991</td>\n",
       "      <td>Apr</td>\n",
       "      <td>118.76</td>\n",
       "      <td>53.4</td>\n",
       "      <td>373</td>\n",
       "      <td>0</td>\n",
       "      <td>4</td>\n",
       "      <td>0.0</td>\n",
       "      <td>0.0</td>\n",
       "      <td>0.0</td>\n",
       "      <td>-0.000600</td>\n",
       "      <td>3576</td>\n",
       "    </tr>\n",
       "    <tr>\n",
       "      <th>4</th>\n",
       "      <td>1991</td>\n",
       "      <td>May</td>\n",
       "      <td>100.71</td>\n",
       "      <td>63.7</td>\n",
       "      <td>162</td>\n",
       "      <td>94</td>\n",
       "      <td>4</td>\n",
       "      <td>0.0</td>\n",
       "      <td>0.0</td>\n",
       "      <td>0.0</td>\n",
       "      <td>-0.000634</td>\n",
       "      <td>2894</td>\n",
       "    </tr>\n",
       "  </tbody>\n",
       "</table>\n",
       "</div>"
      ],
      "text/plain": [
       "     2    3       4     5     6   7   8    9    10   11        12    13\n",
       "0  1991  Jan   162.1  29.1  1229   0   4  0.1  0.2  0.3 -0.002288  5600\n",
       "1  1991  Feb   256.9  31.5   999   0   4  0.0  0.0  0.0 -0.002288  9463\n",
       "2  1991  Mar  151.15  41.9   734   0   4  0.0  0.0  0.0 -0.002288  5154\n",
       "3  1991  Apr  118.76  53.4   373   0   4  0.0  0.0  0.0 -0.000600  3576\n",
       "4  1991  May  100.71  63.7   162  94   4  0.0  0.0  0.0 -0.000634  2894"
      ]
     },
     "execution_count": 38,
     "metadata": {},
     "output_type": "execute_result"
    }
   ],
   "source": [
    "# preview of the data \n",
    "df.head()"
   ]
  },
  {
   "cell_type": "code",
   "execution_count": 39,
   "metadata": {},
   "outputs": [
    {
     "data": {
      "text/html": [
       "<div>\n",
       "<style>\n",
       "    .dataframe thead tr:only-child th {\n",
       "        text-align: right;\n",
       "    }\n",
       "\n",
       "    .dataframe thead th {\n",
       "        text-align: left;\n",
       "    }\n",
       "\n",
       "    .dataframe tbody tr th {\n",
       "        vertical-align: top;\n",
       "    }\n",
       "</style>\n",
       "<table border=\"1\" class=\"dataframe\">\n",
       "  <thead>\n",
       "    <tr style=\"text-align: right;\">\n",
       "      <th></th>\n",
       "      <th>Year</th>\n",
       "      <th>Month</th>\n",
       "      <th>ElectricBill</th>\n",
       "      <th>Temperature</th>\n",
       "      <th>Heating</th>\n",
       "      <th>Cooling</th>\n",
       "      <th>NumOfPeopleHome</th>\n",
       "      <th>NewMeter</th>\n",
       "      <th>NewheatPump1</th>\n",
       "      <th>NewHeatPump2</th>\n",
       "      <th>RiderTotal</th>\n",
       "      <th>ConsumptionTotal</th>\n",
       "    </tr>\n",
       "  </thead>\n",
       "  <tbody>\n",
       "    <tr>\n",
       "      <th>0</th>\n",
       "      <td>1991</td>\n",
       "      <td>Jan</td>\n",
       "      <td>162.1</td>\n",
       "      <td>29.1</td>\n",
       "      <td>1229</td>\n",
       "      <td>0</td>\n",
       "      <td>4</td>\n",
       "      <td>0.1</td>\n",
       "      <td>0.2</td>\n",
       "      <td>0.3</td>\n",
       "      <td>-0.002288</td>\n",
       "      <td>5600</td>\n",
       "    </tr>\n",
       "    <tr>\n",
       "      <th>1</th>\n",
       "      <td>1991</td>\n",
       "      <td>Feb</td>\n",
       "      <td>256.9</td>\n",
       "      <td>31.5</td>\n",
       "      <td>999</td>\n",
       "      <td>0</td>\n",
       "      <td>4</td>\n",
       "      <td>0.0</td>\n",
       "      <td>0.0</td>\n",
       "      <td>0.0</td>\n",
       "      <td>-0.002288</td>\n",
       "      <td>9463</td>\n",
       "    </tr>\n",
       "    <tr>\n",
       "      <th>2</th>\n",
       "      <td>1991</td>\n",
       "      <td>Mar</td>\n",
       "      <td>151.15</td>\n",
       "      <td>41.9</td>\n",
       "      <td>734</td>\n",
       "      <td>0</td>\n",
       "      <td>4</td>\n",
       "      <td>0.0</td>\n",
       "      <td>0.0</td>\n",
       "      <td>0.0</td>\n",
       "      <td>-0.002288</td>\n",
       "      <td>5154</td>\n",
       "    </tr>\n",
       "    <tr>\n",
       "      <th>3</th>\n",
       "      <td>1991</td>\n",
       "      <td>Apr</td>\n",
       "      <td>118.76</td>\n",
       "      <td>53.4</td>\n",
       "      <td>373</td>\n",
       "      <td>0</td>\n",
       "      <td>4</td>\n",
       "      <td>0.0</td>\n",
       "      <td>0.0</td>\n",
       "      <td>0.0</td>\n",
       "      <td>-0.000600</td>\n",
       "      <td>3576</td>\n",
       "    </tr>\n",
       "    <tr>\n",
       "      <th>4</th>\n",
       "      <td>1991</td>\n",
       "      <td>May</td>\n",
       "      <td>100.71</td>\n",
       "      <td>63.7</td>\n",
       "      <td>162</td>\n",
       "      <td>94</td>\n",
       "      <td>4</td>\n",
       "      <td>0.0</td>\n",
       "      <td>0.0</td>\n",
       "      <td>0.0</td>\n",
       "      <td>-0.000634</td>\n",
       "      <td>2894</td>\n",
       "    </tr>\n",
       "  </tbody>\n",
       "</table>\n",
       "</div>"
      ],
      "text/plain": [
       "   Year Month ElectricBill  Temperature  Heating  Cooling  NumOfPeopleHome  \\\n",
       "0  1991   Jan        162.1         29.1     1229        0                4   \n",
       "1  1991   Feb        256.9         31.5      999        0                4   \n",
       "2  1991   Mar       151.15         41.9      734        0                4   \n",
       "3  1991   Apr       118.76         53.4      373        0                4   \n",
       "4  1991   May       100.71         63.7      162       94                4   \n",
       "\n",
       "   NewMeter  NewheatPump1  NewHeatPump2  RiderTotal  ConsumptionTotal  \n",
       "0       0.1           0.2           0.3   -0.002288              5600  \n",
       "1       0.0           0.0           0.0   -0.002288              9463  \n",
       "2       0.0           0.0           0.0   -0.002288              5154  \n",
       "3       0.0           0.0           0.0   -0.000600              3576  \n",
       "4       0.0           0.0           0.0   -0.000634              2894  "
      ]
     },
     "execution_count": 39,
     "metadata": {},
     "output_type": "execute_result"
    }
   ],
   "source": [
    "# Renaming the columns\n",
    "df.columns=['Year','Month','ElectricBill','Temperature','Heating','Cooling','NumOfPeopleHome',\n",
    "            'NewMeter','NewheatPump1','NewHeatPump2','RiderTotal','ConsumptionTotal']\n",
    "df.head()"
   ]
  },
  {
   "cell_type": "code",
   "execution_count": 40,
   "metadata": {},
   "outputs": [
    {
     "name": "stdout",
     "output_type": "stream",
     "text": [
      "<class 'pandas.core.frame.DataFrame'>\n",
      "RangeIndex: 120 entries, 0 to 119\n",
      "Data columns (total 12 columns):\n",
      "Year                120 non-null int64\n",
      "Month               120 non-null object\n",
      "ElectricBill        120 non-null object\n",
      "Temperature         120 non-null float64\n",
      "Heating             120 non-null int64\n",
      "Cooling             120 non-null int64\n",
      "NumOfPeopleHome     120 non-null int64\n",
      "NewMeter            120 non-null float64\n",
      "NewheatPump1        120 non-null float64\n",
      "NewHeatPump2        120 non-null float64\n",
      "RiderTotal          120 non-null float64\n",
      "ConsumptionTotal    120 non-null int64\n",
      "dtypes: float64(5), int64(5), object(2)\n",
      "memory usage: 11.3+ KB\n"
     ]
    }
   ],
   "source": [
    "# Information on shape and variables data types\n",
    "df.info()"
   ]
  },
  {
   "cell_type": "code",
   "execution_count": 41,
   "metadata": {},
   "outputs": [
    {
     "name": "stderr",
     "output_type": "stream",
     "text": [
      "/Users/fabienneishimwe/anaconda3/lib/python3.6/site-packages/ipykernel_launcher.py:2: SettingWithCopyWarning: \n",
      "A value is trying to be set on a copy of a slice from a DataFrame\n",
      "\n",
      "See the caveats in the documentation: http://pandas.pydata.org/pandas-docs/stable/indexing.html#indexing-view-versus-copy\n",
      "  \n",
      "/Users/fabienneishimwe/anaconda3/lib/python3.6/site-packages/ipykernel_launcher.py:4: SettingWithCopyWarning: \n",
      "A value is trying to be set on a copy of a slice from a DataFrame\n",
      "\n",
      "See the caveats in the documentation: http://pandas.pydata.org/pandas-docs/stable/indexing.html#indexing-view-versus-copy\n",
      "  after removing the cwd from sys.path.\n"
     ]
    },
    {
     "data": {
      "text/plain": [
       "100.61033613445382"
      ]
     },
     "execution_count": 41,
     "metadata": {},
     "output_type": "execute_result"
    }
   ],
   "source": [
    "# cleaning up the electric bill column, it has one value with \"*\" and it's not numeric\n",
    "df.ElectricBill[df.ElectricBill=='*']=np.nan\n",
    "df.ElectricBill=pd.to_numeric(df.ElectricBill)\n",
    "df.ElectricBill[36]=df.ElectricBill.mean()\n",
    "df.ElectricBill[36]"
   ]
  },
  {
   "cell_type": "code",
   "execution_count": 81,
   "metadata": {},
   "outputs": [
    {
     "data": {
      "text/plain": [
       "<seaborn.axisgrid.PairGrid at 0x1c26a55e48>"
      ]
     },
     "execution_count": 81,
     "metadata": {},
     "output_type": "execute_result"
    },
    {
     "data": {
      "image/png": "[encoded data removed]",
      "text/plain": [
       "<matplotlib.figure.Figure at 0x1c26a55080>"
      ]
     },
     "metadata": {},
     "output_type": "display_data"
    }
   ],
   "source": [
    "# Visualizing the relationship between features and the target variable \n",
    "\n",
    "\n",
    "sns.pairplot(df,kind='reg',x_vars=['Temperature','Heating','Cooling','NumOfPeopleHome',\n",
    "            'NewMeter','NewheatPump1','NewHeatPump2','RiderTotal','ConsumptionTotal'], y_vars='ElectricBill',size=7,aspect=0.4)"
   ]
  },
  {
   "cell_type": "code",
   "execution_count": 127,
   "metadata": {},
   "outputs": [
    {
     "name": "stdout",
     "output_type": "stream",
     "text": [
      "   Coeficient  Intercept  Mean Squared Error     score\n",
      "0    0.018944  37.177976          471.189067  0.826097\n",
      "\n",
      "\n",
      "      Actual Bill  Predicted Bill  consumptionTotal\n",
      "48        129.06      169.407504              6980\n",
      "94         34.49       47.047831               521\n",
      "95         40.97       50.097824               682\n",
      "8          71.59       70.784736              1774\n",
      "97         93.90       84.500234              2498\n",
      "22         75.54       75.823856              2040\n",
      "7         103.64       93.744935              2986\n",
      "10         78.83       76.808947              2092\n",
      "45         56.47       78.021366              2156\n",
      "89         37.88       48.184474               581\n",
      "33         64.62       67.469526              1599\n",
      "50        174.80      202.957432              8751\n",
      "2         151.15      134.815654              5154\n",
      "60        218.67      257.762593             11644\n",
      "119        89.49       64.874190              1462\n",
      "74        106.51       93.366054              2966\n",
      "30        134.99      118.523763              4294\n",
      "43         80.28       78.608632              2187\n",
      "111       190.62      147.148236              5805\n",
      "76         75.95       72.432869              1861\n",
      "63        189.44      235.389660             10463\n",
      "59        150.11      167.153161              6861\n",
      "16        112.40      105.963853              3631\n",
      "24        180.08      153.930209              6163\n"
     ]
    }
   ],
   "source": [
    "# Exploring and relationship between Consumption & Bill and  a simple linear regression model creation \n",
    "X=df.iloc[:, [11]]\n",
    "y=df['ElectricBill']\n",
    "\n",
    "X_train,X_test,y_train,y_test= train_test_split(X,y, test_size=0.2, random_state=0)\n",
    "\n",
    "lm=LinearRegression()\n",
    "model=lm.fit(X_train,y_train)\n",
    "predictions=lm.predict(X_test)\n",
    "mse=mean_squared_error(y_test, predictions)\n",
    "score=lm.score(X_test, y_test)\n",
    "v={'Mean Squared Error':mse,'Intercept':lm.intercept_,'Coeficient':lm.coef_, 'score':score}\n",
    "equ=pd.DataFrame(v)\n",
    "print (equ)\n",
    "\n",
    "X_test=X_test.T.squeeze()\n",
    "d = {'Actual Bill': y_test,'Predicted Bill':predictions, 'consumptionTotal':X_test}\n",
    "table =pd.DataFrame(d)\n",
    "print ('\\n\\n',table)\n"
   ]
  },
  {
   "cell_type": "code",
   "execution_count": 82,
   "metadata": {},
   "outputs": [
    {
     "data": {
      "text/plain": [
       "<matplotlib.legend.Legend at 0x1c289fab70>"
      ]
     },
     "execution_count": 82,
     "metadata": {},
     "output_type": "execute_result"
    },
    {
     "data": {
      "image/png": "[encoded data removed]",
      "text/plain": [
       "<matplotlib.figure.Figure at 0x1c285c9b00>"
      ]
     },
     "metadata": {},
     "output_type": "display_data"
    }
   ],
   "source": [
    "#plotting the model with  matplotlib\n",
    "plt.figure(figsize=(20,10)) \n",
    "\n",
    "#plt.scatter(X_train,y_train,color='red', label='training data')\n",
    "plt.scatter(X_test,y_test,color='blue', label=\"testing data\")\n",
    "plt.plot(X_train,lm.predict(X_train),color='green')\n",
    "\n",
    "plt.legend()\n"
   ]
  },
  {
   "cell_type": "code",
   "execution_count": 153,
   "metadata": {},
   "outputs": [
    {
     "name": "stdout",
     "output_type": "stream",
     "text": [
      "ConsumptionTotal    0.02634\n",
      "dtype: float64\n",
      "R Squared\n",
      "============\n",
      " 0.919087728404\n",
      "\n",
      "\n",
      "      Actual Bill  Predicted Bill  consumptionTotal\n",
      "48        129.06      183.851123              6980\n",
      "94         34.49       13.722985               521\n",
      "95         40.97       17.963677               682\n",
      "8          71.59       46.726632              1774\n",
      "97         93.90       65.796577              2498\n",
      "22         75.54       53.732993              2040\n",
      "7         103.64       78.650351              2986\n",
      "10         78.83       55.102658              2092\n",
      "45         56.47       56.788398              2156\n",
      "89         37.88       15.303367               581\n",
      "33         64.62       42.117184              1599\n",
      "50        174.80      230.498736              8751\n",
      "2         151.15      135.754826              5154\n",
      "60        218.67      306.699495             11644\n",
      "119        89.49       38.508645              1462\n",
      "74        106.51       78.123557              2966\n",
      "30        134.99      113.102682              4294\n",
      "43         80.28       57.604929              2187\n",
      "111       190.62      152.901973              5805\n",
      "76         75.95       49.018186              1861\n",
      "63        189.44      275.592307             10463\n",
      "59        150.11      180.716698              6861\n",
      "16        112.40       95.639460              3631\n",
      "24        180.08      162.331586              6163\n"
     ]
    }
   ],
   "source": [
    "# . Creating same model with statsmodel instead for hypothesis testing\n",
    "\n",
    "X=df.iloc[:,[11]]\n",
    "y=df['ElectricBill']\n",
    "\n",
    "X_train,X_test,y_train,y_test= train_test_split(X,y, test_size=0.2, random_state=0)\n",
    "import statsmodels.api as sm\n",
    "lms=sm.OLS(y_train,X_train).fit()\n",
    "print(lms.params)\n",
    "print ('R Squared\\n============\\n', lms.rsquared)\n",
    "\n",
    "#predictions\n",
    "predictions1=lms.predict(X_test)\n",
    "X_test=X_test.T.squeeze()\n",
    "d = {'Actual Bill': y_test,'Predicted Bill':predictions1, 'consumptionTotal':X_test}\n",
    "table =pd.DataFrame(d)\n",
    "print ('\\n\\n',table)"
   ]
  },
  {
   "cell_type": "code",
   "execution_count": 145,
   "metadata": {},
   "outputs": [
    {
     "name": "stdout",
     "output_type": "stream",
     "text": [
      "Confidence Intervals for 95% confidence level\n",
      "=============================================\n",
      "                          0         1\n",
      "ConsumptionTotal  0.024748  0.027932\n",
      "\n",
      "P value for 95% confidence level\n",
      "=============================================\n",
      " ConsumptionTotal    1.149602e-53\n",
      "dtype: float64\n",
      "\n",
      "Conclusion\n",
      "===========\n",
      " since Confidence interval does not contain 0 and consequently p-value is less than 5%, we reject H0 and conclude that there is a relationship between consumption and Bill\n"
     ]
    }
   ],
   "source": [
    "\n",
    "# Hypothesis testing\n",
    "\n",
    "#H0: There is no relationship between consumption and bill : coeffficient =0\n",
    "#HA: There is a relationship between consumption and bill : coefficient !=0\n",
    "\n",
    "\n",
    "print ('Confidence Intervals for 95% confidence level\\n=============================================\\n',lms.conf_int())\n",
    "print('\\nP value for 95% confidence level\\n=============================================\\n',lms.pvalues)\n",
    "\n",
    "print( '\\nConclusion\\n===========\\n since Confidence interval does not contain 0 and consequently p-value is less than 5%, we reject H0 and conclude that there is a relationship between consumption and Bill')"
   ]
  },
  {
   "cell_type": "code",
   "execution_count": 148,
   "metadata": {},
   "outputs": [
    {
     "data": {
      "text/plain": [
       "<matplotlib.axes._subplots.AxesSubplot at 0x1c29ddeeb8>"
      ]
     },
     "execution_count": 148,
     "metadata": {},
     "output_type": "execute_result"
    },
    {
     "data": {
      "image/png": "[encoded data removed]",
      "text/plain": [
       "<matplotlib.figure.Figure at 0x1c29c40470>"
      ]
     },
     "metadata": {},
     "output_type": "display_data"
    }
   ],
   "source": [
    "# Multi Linear Regression\n",
    "\n",
    "# An overview or correlation between variables\n",
    "\n",
    "corr = df.corr()\n",
    "corr\n",
    "# plot the heatmap\n",
    "sns.heatmap(corr)"
   ]
  },
  {
   "cell_type": "code",
   "execution_count": 150,
   "metadata": {},
   "outputs": [
    {
     "data": {
      "text/html": [
       "<div>\n",
       "<style>\n",
       "    .dataframe thead tr:only-child th {\n",
       "        text-align: right;\n",
       "    }\n",
       "\n",
       "    .dataframe thead th {\n",
       "        text-align: left;\n",
       "    }\n",
       "\n",
       "    .dataframe tbody tr th {\n",
       "        vertical-align: top;\n",
       "    }\n",
       "</style>\n",
       "<table border=\"1\" class=\"dataframe\">\n",
       "  <thead>\n",
       "    <tr style=\"text-align: right;\">\n",
       "      <th></th>\n",
       "      <th>Temperature</th>\n",
       "      <th>Heating</th>\n",
       "      <th>Cooling</th>\n",
       "      <th>NumOfPeopleHome</th>\n",
       "      <th>NewMeter</th>\n",
       "      <th>NewheatPump1</th>\n",
       "      <th>NewHeatPump2</th>\n",
       "      <th>RiderTotal</th>\n",
       "      <th>ConsumptionTotal</th>\n",
       "    </tr>\n",
       "  </thead>\n",
       "  <tbody>\n",
       "    <tr>\n",
       "      <th>0</th>\n",
       "      <td>29.1</td>\n",
       "      <td>1229</td>\n",
       "      <td>0</td>\n",
       "      <td>4</td>\n",
       "      <td>0.1</td>\n",
       "      <td>0.2</td>\n",
       "      <td>0.3</td>\n",
       "      <td>-0.002288</td>\n",
       "      <td>5600</td>\n",
       "    </tr>\n",
       "    <tr>\n",
       "      <th>1</th>\n",
       "      <td>31.5</td>\n",
       "      <td>999</td>\n",
       "      <td>0</td>\n",
       "      <td>4</td>\n",
       "      <td>0.0</td>\n",
       "      <td>0.0</td>\n",
       "      <td>0.0</td>\n",
       "      <td>-0.002288</td>\n",
       "      <td>9463</td>\n",
       "    </tr>\n",
       "    <tr>\n",
       "      <th>2</th>\n",
       "      <td>41.9</td>\n",
       "      <td>734</td>\n",
       "      <td>0</td>\n",
       "      <td>4</td>\n",
       "      <td>0.0</td>\n",
       "      <td>0.0</td>\n",
       "      <td>0.0</td>\n",
       "      <td>-0.002288</td>\n",
       "      <td>5154</td>\n",
       "    </tr>\n",
       "    <tr>\n",
       "      <th>3</th>\n",
       "      <td>53.4</td>\n",
       "      <td>373</td>\n",
       "      <td>0</td>\n",
       "      <td>4</td>\n",
       "      <td>0.0</td>\n",
       "      <td>0.0</td>\n",
       "      <td>0.0</td>\n",
       "      <td>-0.000600</td>\n",
       "      <td>3576</td>\n",
       "    </tr>\n",
       "    <tr>\n",
       "      <th>4</th>\n",
       "      <td>63.7</td>\n",
       "      <td>162</td>\n",
       "      <td>94</td>\n",
       "      <td>4</td>\n",
       "      <td>0.0</td>\n",
       "      <td>0.0</td>\n",
       "      <td>0.0</td>\n",
       "      <td>-0.000634</td>\n",
       "      <td>2894</td>\n",
       "    </tr>\n",
       "  </tbody>\n",
       "</table>\n",
       "</div>"
      ],
      "text/plain": [
       "   Temperature  Heating  Cooling  NumOfPeopleHome  NewMeter  NewheatPump1  \\\n",
       "0         29.1     1229        0                4       0.1           0.2   \n",
       "1         31.5      999        0                4       0.0           0.0   \n",
       "2         41.9      734        0                4       0.0           0.0   \n",
       "3         53.4      373        0                4       0.0           0.0   \n",
       "4         63.7      162       94                4       0.0           0.0   \n",
       "\n",
       "   NewHeatPump2  RiderTotal  ConsumptionTotal  \n",
       "0           0.3   -0.002288              5600  \n",
       "1           0.0   -0.002288              9463  \n",
       "2           0.0   -0.002288              5154  \n",
       "3           0.0   -0.000600              3576  \n",
       "4           0.0   -0.000634              2894  "
      ]
     },
     "execution_count": 150,
     "metadata": {},
     "output_type": "execute_result"
    }
   ],
   "source": [
    "# Creatig a model with all features involved\n",
    "\n",
    "# Defining the features and target variable\n",
    "X2=df.iloc[:,[3,4,5,6,7,8,9,10,11]]\n",
    "y2=df.ElectricBill\n",
    "X2.head()"
   ]
  },
  {
   "cell_type": "code",
   "execution_count": 151,
   "metadata": {},
   "outputs": [
    {
     "name": "stdout",
     "output_type": "stream",
     "text": [
      "Intercept\n",
      "============\n",
      " 131.009394192\n",
      "\n",
      "Feature Coefficients \n",
      "======================\n",
      " [('Temperature', -1.1820002004916883), ('Heating', -0.030008257701599581), ('Cooling', 0.02007259582442256), ('NumOfPeopleHome', 0.086458326116192072), ('NewMeter', 36.100758931962744), ('NewheatPump1', -19.439449588266907), ('NewHeatPump2', -17.626017836426652), ('RiderTotal', 4068.5397707483221), ('ConsumptionTotal', 0.018634032018932597)]\n"
     ]
    }
   ],
   "source": [
    "# model creation\n",
    "from sklearn.cross_validation import train_test_split\n",
    "X_train,X_test,y_train,y_test= train_test_split(X2,y2, test_size=0.2, random_state=0)\n",
    "lm2=LinearRegression()\n",
    "model=lm2.fit(X_train,y_train)\n",
    "predictions2=lm2.predict(X_test)\n",
    "\n",
    "mse=mean_squared_error(y_test, predictions2)\n",
    "\n",
    "print ('Intercept\\n============\\n', lm2.intercept_)\n",
    "\n",
    "print ('\\nFeature Coefficients \\n======================\\n',list(zip(X_train.columns,lm2.coef_)))"
   ]
  },
  {
   "cell_type": "code",
   "execution_count": 158,
   "metadata": {},
   "outputs": [
    {
     "name": "stdout",
     "output_type": "stream",
     "text": [
      "Temperature            0.716919\n",
      "Heating                0.029355\n",
      "Cooling               -0.049773\n",
      "NumOfPeopleHome        1.562934\n",
      "NewMeter              37.360923\n",
      "NewheatPump1         -17.827171\n",
      "NewHeatPump2         -18.227824\n",
      "RiderTotal          4013.076904\n",
      "ConsumptionTotal       0.018936\n",
      "dtype: float64\n",
      "R Squared\n",
      "============\n",
      " 0.983441759575\n",
      "\n",
      "\n",
      "      Actual Bill  Predicted Bill\n",
      "48        129.06      149.548987\n",
      "94         34.49       31.600908\n",
      "95         40.97       38.795708\n",
      "8          71.59       83.033986\n",
      "97         93.90       70.789418\n",
      "22         75.54       87.170803\n",
      "7         103.64      101.673398\n",
      "10         78.83       91.791303\n",
      "45         56.47       49.864318\n",
      "89         37.88       49.266756\n",
      "33         64.62       78.424215\n",
      "50        174.80      186.133035\n",
      "2         151.15      146.249620\n",
      "60        218.67      244.377907\n",
      "119        89.49       86.293472\n",
      "74        106.51       98.641291\n",
      "30        134.99      121.519458\n",
      "43         80.28       82.667211\n",
      "111       190.62      171.433405\n",
      "76         75.95       71.727890\n",
      "63        189.44      210.820589\n",
      "59        150.11      157.162650\n",
      "16        112.40      110.108857\n",
      "24        180.08      173.298392\n",
      "                            OLS Regression Results                            \n",
      "==============================================================================\n",
      "Dep. Variable:           ElectricBill   R-squared:                       0.983\n",
      "Model:                            OLS   Adj. R-squared:                  0.982\n",
      "Method:                 Least Squares   F-statistic:                     574.1\n",
      "Date:                Mon, 30 Oct 2017   Prob (F-statistic):           1.77e-73\n",
      "Time:                        00:04:52   Log-Likelihood:                -391.15\n",
      "No. Observations:                  96   AIC:                             800.3\n",
      "Df Residuals:                      87   BIC:                             823.4\n",
      "Df Model:                           9                                         \n",
      "Covariance Type:            nonrobust                                         \n",
      "====================================================================================\n",
      "                       coef    std err          t      P>|t|      [0.025      0.975]\n",
      "------------------------------------------------------------------------------------\n",
      "Temperature          0.7169      0.297      2.416      0.018       0.127       1.307\n",
      "Heating              0.0294      0.010      2.829      0.006       0.009       0.050\n",
      "Cooling             -0.0498      0.023     -2.167      0.033      -0.095      -0.004\n",
      "NumOfPeopleHome      1.5629      5.026      0.311      0.757      -8.427      11.553\n",
      "NewMeter            37.3609      7.553      4.946      0.000      22.348      52.374\n",
      "NewheatPump1       -17.8272      5.643     -3.159      0.002     -29.042      -6.612\n",
      "NewHeatPump2       -18.2278      6.393     -2.851      0.005     -30.935      -5.521\n",
      "RiderTotal        4013.0769    460.762      8.710      0.000    3097.262    4928.892\n",
      "ConsumptionTotal     0.0189      0.001     19.831      0.000       0.017       0.021\n",
      "==============================================================================\n",
      "Omnibus:                       21.716   Durbin-Watson:                   1.624\n",
      "Prob(Omnibus):                  0.000   Jarque-Bera (JB):              154.596\n",
      "Skew:                           0.093   Prob(JB):                     2.69e-34\n",
      "Kurtosis:                       9.214   Cond. No.                     1.22e+06\n",
      "==============================================================================\n",
      "\n",
      "Warnings:\n",
      "[1] Standard Errors assume that the covariance matrix of the errors is correctly specified.\n",
      "[2] The condition number is large, 1.22e+06. This might indicate that there are\n",
      "strong multicollinearity or other numerical problems.\n"
     ]
    }
   ],
   "source": [
    "# . Creating same model with statsmodel \n",
    "# Defining the features and target variable\n",
    "X3=df.iloc[:,[3,4,5,6,7,8,9,10,11]]\n",
    "y3=df.ElectricBill\n",
    "X_train,X_test,y_train,y_test= train_test_split(X3,y3, test_size=0.2, random_state=0)\n",
    "\n",
    "lms2=sm.OLS(y_train,X_train).fit()\n",
    "print(lms2.params)\n",
    "print ('R Squared\\n============\\n', lms2.rsquared)\n",
    "\n",
    "#predictions\n",
    "predictions2=lms2.predict(X_test)\n",
    "X_test=X_test.T.squeeze()\n",
    "d = {'Actual Bill': y_test,'Predicted Bill':predictions2}\n",
    "table =pd.DataFrame(d)\n",
    "print ('\\n\\n',table)\n",
    "print( lms2.summary())"
   ]
  },
  {
   "cell_type": "code",
   "execution_count": null,
   "metadata": {},
   "outputs": [],
   "source": []
  },
  {
   "cell_type": "code",
   "execution_count": null,
   "metadata": {},
   "outputs": [],
   "source": []
  },
  {
   "cell_type": "code",
   "execution_count": null,
   "metadata": {},
   "outputs": [],
   "source": []
  },
  {
   "cell_type": "code",
   "execution_count": null,
   "metadata": {},
   "outputs": [],
   "source": []
  },
  {
   "cell_type": "code",
   "execution_count": null,
   "metadata": {
    "collapsed": true
   },
   "outputs": [],
   "source": []
  },
  {
   "cell_type": "code",
   "execution_count": null,
   "metadata": {},
   "outputs": [],
   "source": []
  },
  {
   "cell_type": "code",
   "execution_count": null,
   "metadata": {},
   "outputs": [],
   "source": []
  },
  {
   "cell_type": "code",
   "execution_count": null,
   "metadata": {},
   "outputs": [],
   "source": []
  },
  {
   "cell_type": "code",
   "execution_count": null,
   "metadata": {},
   "outputs": [],
   "source": [
    "\n"
   ]
  },
  {
   "cell_type": "code",
   "execution_count": null,
   "metadata": {},
   "outputs": [],
   "source": []
  },
  {
   "cell_type": "code",
   "execution_count": null,
   "metadata": {},
   "outputs": [],
   "source": []
  },
  {
   "cell_type": "code",
   "execution_count": null,
   "metadata": {},
   "outputs": [],
   "source": []
  },
  {
   "cell_type": "code",
   "execution_count": null,
   "metadata": {},
   "outputs": [],
   "source": []
  },
  {
   "cell_type": "code",
   "execution_count": 27,
   "metadata": {
    "collapsed": true
   },
   "outputs": [],
   "source": []
  },
  {
   "cell_type": "code",
   "execution_count": null,
   "metadata": {},
   "outputs": [],
   "source": []
  },
  {
   "cell_type": "code",
   "execution_count": null,
   "metadata": {
    "collapsed": true
   },
   "outputs": [],
   "source": []
  }
 ],
 "metadata": {
  "kernelspec": {
   "display_name": "Python 3",
   "language": "python",
   "name": "python3"
  },
  "language_info": {
   "codemirror_mode": {
    "name": "ipython",
    "version": 3
   },
   "file_extension": ".py",
   "mimetype": "text/x-python",
   "name": "python",
   "nbconvert_exporter": "python",
   "pygments_lexer": "ipython3",
   "version": "3.6.3"
  }
 },
 "nbformat": 4,
 "nbformat_minor": 2
}
